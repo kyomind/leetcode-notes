{
 "cells": [
  {
   "cell_type": "markdown",
   "metadata": {},
   "source": [
    "https://leetcode.com/problems/basic-calculator-ii/"
   ]
  },
  {
   "cell_type": "code",
   "execution_count": 24,
   "metadata": {},
   "outputs": [
    {
     "data": {
      "text/plain": [
       "10"
      ]
     },
     "execution_count": 24,
     "metadata": {},
     "output_type": "execute_result"
    }
   ],
   "source": [
    "sum(range(5))"
   ]
  },
  {
   "cell_type": "code",
   "execution_count": 5,
   "metadata": {},
   "outputs": [
    {
     "data": {
      "text/plain": [
       "2"
      ]
     },
     "execution_count": 5,
     "metadata": {},
     "output_type": "execute_result"
    }
   ],
   "source": [
    "eval('1+1')"
   ]
  },
  {
   "cell_type": "code",
   "execution_count": 7,
   "metadata": {},
   "outputs": [
    {
     "data": {
      "text/plain": [
       "6.0"
      ]
     },
     "execution_count": 7,
     "metadata": {},
     "output_type": "execute_result"
    }
   ],
   "source": [
    "eval('1+10/2')"
   ]
  },
  {
   "cell_type": "code",
   "execution_count": 8,
   "metadata": {},
   "outputs": [
    {
     "data": {
      "text/plain": [
       "5.0"
      ]
     },
     "execution_count": 8,
     "metadata": {},
     "output_type": "execute_result"
    }
   ],
   "source": [
    "10/2"
   ]
  },
  {
   "cell_type": "code",
   "execution_count": 9,
   "metadata": {},
   "outputs": [
    {
     "data": {
      "text/plain": [
       "True"
      ]
     },
     "execution_count": 9,
     "metadata": {},
     "output_type": "execute_result"
    }
   ],
   "source": [
    "'1'.isdigit()"
   ]
  },
  {
   "cell_type": "code",
   "execution_count": 10,
   "metadata": {},
   "outputs": [
    {
     "data": {
      "text/plain": [
       "0.0"
      ]
     },
     "execution_count": 10,
     "metadata": {},
     "output_type": "execute_result"
    }
   ],
   "source": [
    "0.0 * 10"
   ]
  },
  {
   "cell_type": "code",
   "execution_count": 12,
   "metadata": {},
   "outputs": [
    {
     "data": {
      "text/plain": [
       "3"
      ]
     },
     "execution_count": 12,
     "metadata": {},
     "output_type": "execute_result"
    }
   ],
   "source": [
    "num = 0\n",
    "num = 10 * num + 3\n",
    "num"
   ]
  },
  {
   "cell_type": "code",
   "execution_count": 16,
   "metadata": {},
   "outputs": [],
   "source": [
    "def calculate(s: str) -> int:\n",
    "    stack = []\n",
    "    s += '$'\n",
    "    pre_flag = '+'\n",
    "    num = 0\n",
    "\n",
    "    for c in s:\n",
    "        if c.isdigit():\n",
    "            num = + int(c)\n",
    "        elif c == ' ': continue\n",
    "        else:\n",
    "            if pre_flag == '+':\n",
    "                stack.append(num)\n",
    "            elif pre_flag == '-':\n",
    "                stack.append(-num)\n",
    "            elif pre_flag == '*':\n",
    "                stack.append(stack.pop() * num)\n",
    "            elif pre_flag == '/':\n",
    "                stack.append(int(stack.pop() / num))\n",
    "            pre_flag = c\n",
    "            num = 0\n",
    "    return sum(stack)"
   ]
  },
  {
   "cell_type": "code",
   "execution_count": 17,
   "metadata": {},
   "outputs": [
    {
     "data": {
      "text/plain": [
       "7"
      ]
     },
     "execution_count": 17,
     "metadata": {},
     "output_type": "execute_result"
    }
   ],
   "source": [
    "calculate(\"3+2*2\")"
   ]
  },
  {
   "cell_type": "code",
   "execution_count": 22,
   "metadata": {},
   "outputs": [
    {
     "data": {
      "text/plain": [
       "-1.5"
      ]
     },
     "execution_count": 22,
     "metadata": {},
     "output_type": "execute_result"
    }
   ],
   "source": [
    "-3/2"
   ]
  },
  {
   "cell_type": "code",
   "execution_count": 21,
   "metadata": {},
   "outputs": [
    {
     "data": {
      "text/plain": [
       "-2"
      ]
     },
     "execution_count": 21,
     "metadata": {},
     "output_type": "execute_result"
    }
   ],
   "source": [
    "-3//2\n",
    "# 竟然不是 -1 ！"
   ]
  },
  {
   "cell_type": "code",
   "execution_count": 20,
   "metadata": {},
   "outputs": [
    {
     "data": {
      "text/plain": [
       "-1"
      ]
     },
     "execution_count": 20,
     "metadata": {},
     "output_type": "execute_result"
    }
   ],
   "source": [
    "int(-3/2)"
   ]
  },
  {
   "cell_type": "code",
   "execution_count": 25,
   "metadata": {},
   "outputs": [
    {
     "data": {
      "text/plain": [
       "-1"
      ]
     },
     "execution_count": 25,
     "metadata": {},
     "output_type": "execute_result"
    }
   ],
   "source": [
    "a = 1\n",
    "-a"
   ]
  },
  {
   "cell_type": "code",
   "execution_count": null,
   "metadata": {},
   "outputs": [],
   "source": [
    "def calculate(self, s: str) -> int:\n",
    "    nums = []\n",
    "    op = '+'\n",
    "    cur = 0\n",
    "    i = 0\n",
    "    while i < len(s):\n",
    "        if s[i] == ' ':\n",
    "            i += 1\n",
    "            continue\n",
    "        while i < len(s) and s[i].isdigit():\n",
    "            cur = cur * 10 + ord(s[i]) - ord('0')\n",
    "            i += 1\n",
    "        if op in '+-':\n",
    "            nums.append(cur * (1 if op == '+' else -1))\n",
    "        elif op == '*':\n",
    "            nums[-1] *= cur\n",
    "        elif op == '/':\n",
    "            sign = -1 if nums[-1] < 0 or cur < 0 else 1\n",
    "            nums[-1] = abs(nums[-1]) // abs(cur) * sign\n",
    "        cur = 0\n",
    "        if (i < len(s)): op = s[i]\n",
    "        i += 1\n",
    "    return sum(nums)"
   ]
  },
  {
   "cell_type": "markdown",
   "metadata": {},
   "source": [
    "### 暴力解\n",
    "```\n",
    "\" 234+55 / 22 \"\n",
    "\" 234/55 - 22 \"\n",
    "```"
   ]
  },
  {
   "cell_type": "code",
   "execution_count": 44,
   "metadata": {},
   "outputs": [],
   "source": [
    "def brute_cal(s: str) -> int:\n",
    "    stack = []\n",
    "    current_number = 0\n",
    "    last_operator = '+'  # 第一個數字一定要先放入stack，故預設為+\n",
    "    for char in s + '*':  # 加上一個op符以觸發最後一個數字的處理\n",
    "        if char == '':\n",
    "            continue\n",
    "        elif char.isdigit():\n",
    "            current_number = current_number * 10 + int(char)\n",
    "        elif char in '+-*/':\n",
    "            if last_operator == '+':\n",
    "                stack.append(current_number)\n",
    "            elif last_operator == '-':\n",
    "                stack.append(-current_number)\n",
    "            elif last_operator == '/':\n",
    "                stack.append(int(stack.pop() / current_number))\n",
    "            elif last_operator == '*':\n",
    "                stack.append(stack.pop() * current_number)\n",
    "            last_operator = char\n",
    "            current_number = 0\n",
    "    return sum(stack)"
   ]
  },
  {
   "cell_type": "code",
   "execution_count": 45,
   "metadata": {},
   "outputs": [
    {
     "data": {
      "text/plain": [
       "120"
      ]
     },
     "execution_count": 45,
     "metadata": {},
     "output_type": "execute_result"
    }
   ],
   "source": [
    "brute_cal(\" 234/2 + 3\")"
   ]
  },
  {
   "cell_type": "code",
   "execution_count": null,
   "metadata": {},
   "outputs": [],
   "source": []
  }
 ],
 "metadata": {
  "kernelspec": {
   "display_name": "Python 3",
   "language": "python",
   "name": "python3"
  },
  "language_info": {
   "codemirror_mode": {
    "name": "ipython",
    "version": 3
   },
   "file_extension": ".py",
   "mimetype": "text/x-python",
   "name": "python",
   "nbconvert_exporter": "python",
   "pygments_lexer": "ipython3",
   "version": "3.8.5"
  }
 },
 "nbformat": 4,
 "nbformat_minor": 4
}
